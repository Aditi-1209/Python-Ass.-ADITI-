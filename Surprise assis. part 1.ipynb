{
 "cells": [
  {
   "cell_type": "code",
   "execution_count": null,
   "metadata": {},
   "outputs": [],
   "source": [
    "#ANS 2 (Checking if String is Palindrome or not )\n",
    "\n",
    "str=input((\"Enter a String:\"))\n",
    "if(str==str[::-1]):\n",
    "    print(\"String is palindrome\")\n",
    "else:\n",
    "    print(\"String is not palindrome\")"
   ]
  },
  {
   "cell_type": "code",
   "execution_count": 4,
   "metadata": {},
   "outputs": [
    {
     "name": "stdout",
     "output_type": "stream",
     "text": [
      "{'Nory': 1, 'was': 6, 'a': 6, 'Catholic': 3, 'because': 3, 'her': 3, 'mother': 3, 'Catholic,': 2, 'and': 2, \"Nory's\": 1, 'father': 2, 'his': 1, 'Catholic,or': 1, 'had': 1, 'been.': 1}\n"
     ]
    }
   ],
   "source": [
    "#ANS 1 counting words in a paragraph\n",
    "def scounts(str):\n",
    "    d=dict()\n",
    "    words=str.split()\n",
    "    \n",
    "    for word in words:\n",
    "        if word in d:\n",
    "            d[word]+=1\n",
    "        else:\n",
    "            d[word]=1\n",
    "    return d\n",
    "print(scounts(\"\"\"Nory was a Catholic because her mother was a Catholic,\n",
    "                  and Nory's mother was a Catholic because her father was a Catholic,\n",
    "                  and her father was a Catholic because his mother was a Catholic,or had been.\"\"\"))\n",
    "    \n",
    "    "
   ]
  },
  {
   "cell_type": "code",
   "execution_count": null,
   "metadata": {},
   "outputs": [],
   "source": [
    "#Explain what is Overfitting and Underfitting.\n",
    "overfitting hppens with non linear model .It happens when model understand the details too mucuh that it effects model\n",
    "in a way that disturbs the final result after occurence of this overfitting model.\n",
    "\n",
    "underfitting happens when model can not understand or generalize the data that is given in input so it definately affects the performance in a negative way.\n"
   ]
  },
  {
   "cell_type": "code",
   "execution_count": null,
   "metadata": {},
   "outputs": [],
   "source": [
    "#Explain the types of Preprocessing done before feeding to the ML algorithm.\n",
    "\n",
    "1.First of all we need a dataset in which whatever algorithm we are working on related and required data is present.\n",
    "2.Then we need to start with ur code by importing that dataset and the libraries required for it.\n",
    "3.Categorise the data that we have like it whatever categories our algorithm can work upon and like manage it accordingly if something is missing than add to it if something is extra we cann remove it.\n",
    "4.Scale the dataset like standardizing the data in different ranges."
   ]
  },
  {
   "cell_type": "code",
   "execution_count": null,
   "metadata": {},
   "outputs": [],
   "source": [
    "#Explain the steps in a ML project lifecycle.\n",
    "1.Understand and analyse the problem.\n",
    "2.Look forward in thinking what could be the possible solution towards solving that particular problem in a specific way.\n",
    "3.Collect the data accordingly like dataset \n",
    "4.Tune or Edit the algorithm after working on it if not giving required results.\n",
    "5.Deploy the code and algorithm generated after successful completion."
   ]
  }
 ],
 "metadata": {
  "kernelspec": {
   "display_name": "Python 3",
   "language": "python",
   "name": "python3"
  },
  "language_info": {
   "codemirror_mode": {
    "name": "ipython",
    "version": 3
   },
   "file_extension": ".py",
   "mimetype": "text/x-python",
   "name": "python",
   "nbconvert_exporter": "python",
   "pygments_lexer": "ipython3",
   "version": "3.7.3"
  }
 },
 "nbformat": 4,
 "nbformat_minor": 2
}
